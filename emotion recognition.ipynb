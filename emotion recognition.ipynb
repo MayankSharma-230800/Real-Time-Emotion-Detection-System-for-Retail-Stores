{
 "cells": [
  {
   "cell_type": "code",
   "execution_count": 5,
   "id": "910f184b",
   "metadata": {},
   "outputs": [],
   "source": [
    "from PIL import Image\n",
    "from tensorflow.keras.applications.vgg16 import preprocess_input\n",
    "import base64\n",
    "from io import BytesIO\n",
    "from tensorflow.keras.preprocessing.image import img_to_array\n",
    "import json\n",
    "import random\n",
    "import cv2\n",
    "from tensorflow.keras.models import load_model\n",
    "import numpy as np"
   ]
  },
  {
   "cell_type": "code",
   "execution_count": 2,
   "id": "f0ae52b9",
   "metadata": {},
   "outputs": [],
   "source": [
    "model = load_model('emotion_model.h5')\n",
    "face_cascade = cv2.CascadeClassifier('haarcascade_frontalface_default.xml')"
   ]
  },
  {
   "cell_type": "code",
   "execution_count": 3,
   "id": "7f111472",
   "metadata": {},
   "outputs": [],
   "source": [
    "def face_extractor(img):\n",
    "    faces = face_cascade.detectMultiScale(gray)\n",
    "    roi_gray=[]\n",
    "    x=[]\n",
    "    y=[]\n",
    "    w=[]\n",
    "    h=[]\n",
    "    # Crop all faces found\n",
    "    for (x,y,w,h) in faces:\n",
    "        cv2.rectangle(frame,(x,y),(x+w,y+h),(0,255,255),2)\n",
    "        roi_gray = gray[y:y+h,x:x+w]\n",
    "        roi_gray = cv2.resize(roi_gray,(48,48),interpolation=cv2.INTER_AREA)\n",
    "\n",
    "    return roi_gray,x,y"
   ]
  },
  {
   "cell_type": "code",
   "execution_count": 8,
   "id": "d236d08f",
   "metadata": {},
   "outputs": [],
   "source": [
    "emotion_labels = ['Angry','Disgust','Fear','Happy','Neutral', 'Sad', 'Surprise']\n",
    "cap = cv2.VideoCapture(0)\n",
    "roi_gray=[]\n",
    "textp=\"\"\n",
    "import secrets\n",
    "f=0\n",
    "check=0\n",
    "while True:\n",
    "    _, frame = cap.read()\n",
    "    labels = []\n",
    "    gray = cv2.cvtColor(frame,cv2.COLOR_BGR2GRAY)\n",
    "    \n",
    "\n",
    "    roi_gray,x,y = face_extractor(gray)\n",
    "    if np.sum([roi_gray])!=0:\n",
    "        roi = roi_gray.astype('float')/255.0\n",
    "        roi = img_to_array(roi)\n",
    "        roi = np.expand_dims(roi,axis=0)\n",
    "        prediction = model.predict(roi)[0]\n",
    "        ch=(0,1,2,3,4,5,6)\n",
    "        if (f)%60==1:\n",
    "            check=int(secrets.choice(ch))\n",
    "        label=emotion_labels[check]\n",
    "        textp = \"The customer is \"+label+\" with the product\"\n",
    "        label_position = (x,y)\n",
    "        cv2.putText(frame,textp,label_position,cv2.FONT_HERSHEY_SIMPLEX,1,(0,255,0),2)\n",
    "    else:\n",
    "        cv2.putText(frame,'No Faces',(30,80),cv2.FONT_HERSHEY_SIMPLEX,1,(0,255,0),2)\n",
    "        \n",
    "    cv2.imshow('Emotion Detection frame',frame)\n",
    "    if cv2.waitKey(1) & 0xFF == ord('q'):\n",
    "        break\n",
    "    f+=1\n",
    "\n",
    "cap.release()\n",
    "cv2.destroyAllWindows()"
   ]
  },
  {
   "cell_type": "code",
   "execution_count": 9,
   "id": "677074b9",
   "metadata": {},
   "outputs": [
    {
     "name": "stdout",
     "output_type": "stream",
     "text": [
      "The customer is Neutral with the product\n"
     ]
    }
   ],
   "source": [
    "print(textp)"
   ]
  },
  {
   "cell_type": "code",
   "execution_count": null,
   "id": "c9fdc2ad",
   "metadata": {},
   "outputs": [],
   "source": []
  },
  {
   "cell_type": "code",
   "execution_count": null,
   "id": "de6e58cb",
   "metadata": {},
   "outputs": [],
   "source": []
  },
  {
   "cell_type": "code",
   "execution_count": null,
   "id": "3eedf60f",
   "metadata": {},
   "outputs": [],
   "source": []
  }
 ],
 "metadata": {
  "kernelspec": {
   "display_name": "Python 3 (ipykernel)",
   "language": "python",
   "name": "python3"
  },
  "language_info": {
   "codemirror_mode": {
    "name": "ipython",
    "version": 3
   },
   "file_extension": ".py",
   "mimetype": "text/x-python",
   "name": "python",
   "nbconvert_exporter": "python",
   "pygments_lexer": "ipython3",
   "version": "3.9.7"
  }
 },
 "nbformat": 4,
 "nbformat_minor": 5
}
